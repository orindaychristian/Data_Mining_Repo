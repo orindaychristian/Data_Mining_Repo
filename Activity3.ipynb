{
 "cells": [
  {
   "cell_type": "markdown",
   "id": "dc3b645f-9b88-4bd2-b837-aad1b697b26b",
   "metadata": {},
   "source": [
    "<h1>DATA ANALYTICS PROJECT</h1>\n",
    "<h2>UNITED KINGDOM ROAD ACCIDENT DATA ANALYSIS</h2>\n",
    "<h3>INCLUSIVE YEARS: 2019-2022</h3>\n",
    "<h4>IMPORTING LIBRARIES</h4>"
   ]
  },
  {
   "cell_type": "code",
   "execution_count": 1,
   "id": "b935ef7e-379c-42d5-b8fa-55d7fee8e41e",
   "metadata": {},
   "outputs": [],
   "source": [
    "import pandas as pd\n",
    "import numpy as np\n",
    "import seaborn as sns\n",
    "import matplotlib.pyplot as plt\n",
    "import warnings\n",
    "from scipy.stats import f_oneway\n",
    "warnings.filterwarnings('ignore')"
   ]
  },
  {
   "cell_type": "code",
   "execution_count": 2,
   "id": "cbff93cd-7858-493e-9530-ec0349e94b14",
   "metadata": {},
   "outputs": [],
   "source": [
    "accident = pd.read_csv(\"accident_data.csv\")"
   ]
  },
  {
   "cell_type": "code",
   "execution_count": 3,
   "id": "c90d6b5f-b46a-4703-9b83-c5b4c9cb66fa",
   "metadata": {},
   "outputs": [
    {
     "data": {
      "text/html": [
       "<div>\n",
       "<style scoped>\n",
       "    .dataframe tbody tr th:only-of-type {\n",
       "        vertical-align: middle;\n",
       "    }\n",
       "\n",
       "    .dataframe tbody tr th {\n",
       "        vertical-align: top;\n",
       "    }\n",
       "\n",
       "    .dataframe thead th {\n",
       "        text-align: right;\n",
       "    }\n",
       "</style>\n",
       "<table border=\"1\" class=\"dataframe\">\n",
       "  <thead>\n",
       "    <tr style=\"text-align: right;\">\n",
       "      <th></th>\n",
       "      <th>Index</th>\n",
       "      <th>Accident_Severity</th>\n",
       "      <th>Accident Date</th>\n",
       "      <th>Latitude</th>\n",
       "      <th>Light_Conditions</th>\n",
       "      <th>District Area</th>\n",
       "      <th>Longitude</th>\n",
       "      <th>Number_of_Casualties</th>\n",
       "      <th>Number_of_Vehicles</th>\n",
       "      <th>Road_Surface_Conditions</th>\n",
       "      <th>Road_Type</th>\n",
       "      <th>Urban_or_Rural_Area</th>\n",
       "      <th>Weather_Conditions</th>\n",
       "      <th>Vehicle_Type</th>\n",
       "    </tr>\n",
       "  </thead>\n",
       "  <tbody>\n",
       "    <tr>\n",
       "      <th>0</th>\n",
       "      <td>200701BS64157</td>\n",
       "      <td>Serious</td>\n",
       "      <td>05/06/2019</td>\n",
       "      <td>51.506187</td>\n",
       "      <td>Darkness - lights lit</td>\n",
       "      <td>Kensington and Chelsea</td>\n",
       "      <td>-0.209082</td>\n",
       "      <td>1</td>\n",
       "      <td>2</td>\n",
       "      <td>Dry</td>\n",
       "      <td>Single carriageway</td>\n",
       "      <td>Urban</td>\n",
       "      <td>Fine no high winds</td>\n",
       "      <td>Car</td>\n",
       "    </tr>\n",
       "    <tr>\n",
       "      <th>1</th>\n",
       "      <td>200701BS65737</td>\n",
       "      <td>Serious</td>\n",
       "      <td>02/07/2019</td>\n",
       "      <td>51.495029</td>\n",
       "      <td>Daylight</td>\n",
       "      <td>Kensington and Chelsea</td>\n",
       "      <td>-0.173647</td>\n",
       "      <td>1</td>\n",
       "      <td>2</td>\n",
       "      <td>Wet or damp</td>\n",
       "      <td>Single carriageway</td>\n",
       "      <td>Urban</td>\n",
       "      <td>Raining no high winds</td>\n",
       "      <td>Car</td>\n",
       "    </tr>\n",
       "    <tr>\n",
       "      <th>2</th>\n",
       "      <td>200701BS66127</td>\n",
       "      <td>Serious</td>\n",
       "      <td>26/08/2019</td>\n",
       "      <td>51.517715</td>\n",
       "      <td>Darkness - lighting unknown</td>\n",
       "      <td>Kensington and Chelsea</td>\n",
       "      <td>-0.210215</td>\n",
       "      <td>1</td>\n",
       "      <td>3</td>\n",
       "      <td>Dry</td>\n",
       "      <td>NaN</td>\n",
       "      <td>Urban</td>\n",
       "      <td>NaN</td>\n",
       "      <td>Taxi/Private hire car</td>\n",
       "    </tr>\n",
       "    <tr>\n",
       "      <th>3</th>\n",
       "      <td>200701BS66128</td>\n",
       "      <td>Serious</td>\n",
       "      <td>16/08/2019</td>\n",
       "      <td>51.495478</td>\n",
       "      <td>Daylight</td>\n",
       "      <td>Kensington and Chelsea</td>\n",
       "      <td>-0.202731</td>\n",
       "      <td>1</td>\n",
       "      <td>4</td>\n",
       "      <td>Dry</td>\n",
       "      <td>Single carriageway</td>\n",
       "      <td>Urban</td>\n",
       "      <td>Fine no high winds</td>\n",
       "      <td>Bus or coach (17 or more pass seats)</td>\n",
       "    </tr>\n",
       "    <tr>\n",
       "      <th>4</th>\n",
       "      <td>200701BS66837</td>\n",
       "      <td>Slight</td>\n",
       "      <td>03/09/2019</td>\n",
       "      <td>51.488576</td>\n",
       "      <td>Darkness - lights lit</td>\n",
       "      <td>Kensington and Chelsea</td>\n",
       "      <td>-0.192487</td>\n",
       "      <td>1</td>\n",
       "      <td>2</td>\n",
       "      <td>Dry</td>\n",
       "      <td>NaN</td>\n",
       "      <td>Urban</td>\n",
       "      <td>NaN</td>\n",
       "      <td>Other vehicle</td>\n",
       "    </tr>\n",
       "    <tr>\n",
       "      <th>...</th>\n",
       "      <td>...</td>\n",
       "      <td>...</td>\n",
       "      <td>...</td>\n",
       "      <td>...</td>\n",
       "      <td>...</td>\n",
       "      <td>...</td>\n",
       "      <td>...</td>\n",
       "      <td>...</td>\n",
       "      <td>...</td>\n",
       "      <td>...</td>\n",
       "      <td>...</td>\n",
       "      <td>...</td>\n",
       "      <td>...</td>\n",
       "      <td>...</td>\n",
       "    </tr>\n",
       "    <tr>\n",
       "      <th>660674</th>\n",
       "      <td>201091NM01760</td>\n",
       "      <td>Slight</td>\n",
       "      <td>18/02/2022</td>\n",
       "      <td>57.374005</td>\n",
       "      <td>Daylight</td>\n",
       "      <td>Highland</td>\n",
       "      <td>-3.467828</td>\n",
       "      <td>2</td>\n",
       "      <td>1</td>\n",
       "      <td>Dry</td>\n",
       "      <td>Single carriageway</td>\n",
       "      <td>Rural</td>\n",
       "      <td>Fine no high winds</td>\n",
       "      <td>Car</td>\n",
       "    </tr>\n",
       "    <tr>\n",
       "      <th>660675</th>\n",
       "      <td>201091NM01881</td>\n",
       "      <td>Slight</td>\n",
       "      <td>21/02/2022</td>\n",
       "      <td>57.232273</td>\n",
       "      <td>Darkness - no lighting</td>\n",
       "      <td>Highland</td>\n",
       "      <td>-3.809281</td>\n",
       "      <td>1</td>\n",
       "      <td>1</td>\n",
       "      <td>Frost or ice</td>\n",
       "      <td>Single carriageway</td>\n",
       "      <td>Rural</td>\n",
       "      <td>Fine no high winds</td>\n",
       "      <td>Car</td>\n",
       "    </tr>\n",
       "    <tr>\n",
       "      <th>660676</th>\n",
       "      <td>201091NM01935</td>\n",
       "      <td>Slight</td>\n",
       "      <td>23/02/2022</td>\n",
       "      <td>57.585044</td>\n",
       "      <td>Daylight</td>\n",
       "      <td>Highland</td>\n",
       "      <td>-3.862727</td>\n",
       "      <td>1</td>\n",
       "      <td>3</td>\n",
       "      <td>Frost or ice</td>\n",
       "      <td>Single carriageway</td>\n",
       "      <td>Rural</td>\n",
       "      <td>Fine no high winds</td>\n",
       "      <td>Car</td>\n",
       "    </tr>\n",
       "    <tr>\n",
       "      <th>660677</th>\n",
       "      <td>201091NM01964</td>\n",
       "      <td>Serious</td>\n",
       "      <td>23/02/2022</td>\n",
       "      <td>57.214898</td>\n",
       "      <td>Darkness - no lighting</td>\n",
       "      <td>Highland</td>\n",
       "      <td>-3.823997</td>\n",
       "      <td>1</td>\n",
       "      <td>2</td>\n",
       "      <td>Wet or damp</td>\n",
       "      <td>Single carriageway</td>\n",
       "      <td>Rural</td>\n",
       "      <td>Fine no high winds</td>\n",
       "      <td>Motorcycle over 500cc</td>\n",
       "    </tr>\n",
       "    <tr>\n",
       "      <th>660678</th>\n",
       "      <td>201091NM02142</td>\n",
       "      <td>Serious</td>\n",
       "      <td>28/02/2022</td>\n",
       "      <td>57.575210</td>\n",
       "      <td>Daylight</td>\n",
       "      <td>Highland</td>\n",
       "      <td>-3.895673</td>\n",
       "      <td>1</td>\n",
       "      <td>1</td>\n",
       "      <td>Wet or damp</td>\n",
       "      <td>Dual carriageway</td>\n",
       "      <td>Rural</td>\n",
       "      <td>Snowing no high winds</td>\n",
       "      <td>Car</td>\n",
       "    </tr>\n",
       "  </tbody>\n",
       "</table>\n",
       "<p>660679 rows × 14 columns</p>\n",
       "</div>"
      ],
      "text/plain": [
       "                Index Accident_Severity Accident Date   Latitude  \\\n",
       "0       200701BS64157           Serious    05/06/2019  51.506187   \n",
       "1       200701BS65737           Serious    02/07/2019  51.495029   \n",
       "2       200701BS66127           Serious    26/08/2019  51.517715   \n",
       "3       200701BS66128           Serious    16/08/2019  51.495478   \n",
       "4       200701BS66837            Slight    03/09/2019  51.488576   \n",
       "...               ...               ...           ...        ...   \n",
       "660674  201091NM01760            Slight    18/02/2022  57.374005   \n",
       "660675  201091NM01881            Slight    21/02/2022  57.232273   \n",
       "660676  201091NM01935            Slight    23/02/2022  57.585044   \n",
       "660677  201091NM01964           Serious    23/02/2022  57.214898   \n",
       "660678  201091NM02142           Serious    28/02/2022  57.575210   \n",
       "\n",
       "                   Light_Conditions           District Area  Longitude  \\\n",
       "0             Darkness - lights lit  Kensington and Chelsea  -0.209082   \n",
       "1                          Daylight  Kensington and Chelsea  -0.173647   \n",
       "2       Darkness - lighting unknown  Kensington and Chelsea  -0.210215   \n",
       "3                          Daylight  Kensington and Chelsea  -0.202731   \n",
       "4             Darkness - lights lit  Kensington and Chelsea  -0.192487   \n",
       "...                             ...                     ...        ...   \n",
       "660674                     Daylight                Highland  -3.467828   \n",
       "660675       Darkness - no lighting                Highland  -3.809281   \n",
       "660676                     Daylight                Highland  -3.862727   \n",
       "660677       Darkness - no lighting                Highland  -3.823997   \n",
       "660678                     Daylight                Highland  -3.895673   \n",
       "\n",
       "        Number_of_Casualties  Number_of_Vehicles Road_Surface_Conditions  \\\n",
       "0                          1                   2                     Dry   \n",
       "1                          1                   2             Wet or damp   \n",
       "2                          1                   3                     Dry   \n",
       "3                          1                   4                     Dry   \n",
       "4                          1                   2                     Dry   \n",
       "...                      ...                 ...                     ...   \n",
       "660674                     2                   1                     Dry   \n",
       "660675                     1                   1            Frost or ice   \n",
       "660676                     1                   3            Frost or ice   \n",
       "660677                     1                   2             Wet or damp   \n",
       "660678                     1                   1             Wet or damp   \n",
       "\n",
       "                 Road_Type Urban_or_Rural_Area     Weather_Conditions  \\\n",
       "0       Single carriageway               Urban     Fine no high winds   \n",
       "1       Single carriageway               Urban  Raining no high winds   \n",
       "2                      NaN               Urban                    NaN   \n",
       "3       Single carriageway               Urban     Fine no high winds   \n",
       "4                      NaN               Urban                    NaN   \n",
       "...                    ...                 ...                    ...   \n",
       "660674  Single carriageway               Rural     Fine no high winds   \n",
       "660675  Single carriageway               Rural     Fine no high winds   \n",
       "660676  Single carriageway               Rural     Fine no high winds   \n",
       "660677  Single carriageway               Rural     Fine no high winds   \n",
       "660678    Dual carriageway               Rural  Snowing no high winds   \n",
       "\n",
       "                                Vehicle_Type  \n",
       "0                                        Car  \n",
       "1                                        Car  \n",
       "2                      Taxi/Private hire car  \n",
       "3       Bus or coach (17 or more pass seats)  \n",
       "4                              Other vehicle  \n",
       "...                                      ...  \n",
       "660674                                   Car  \n",
       "660675                                   Car  \n",
       "660676                                   Car  \n",
       "660677                 Motorcycle over 500cc  \n",
       "660678                                   Car  \n",
       "\n",
       "[660679 rows x 14 columns]"
      ]
     },
     "execution_count": 3,
     "metadata": {},
     "output_type": "execute_result"
    }
   ],
   "source": [
    "accident"
   ]
  },
  {
   "cell_type": "code",
   "execution_count": 4,
   "id": "8e561797-fdfc-4ed7-a1d5-b8d1ac13c479",
   "metadata": {},
   "outputs": [
    {
     "data": {
      "text/plain": [
       "Index                       object\n",
       "Accident_Severity           object\n",
       "Accident Date               object\n",
       "Latitude                   float64\n",
       "Light_Conditions            object\n",
       "District Area               object\n",
       "Longitude                  float64\n",
       "Number_of_Casualties         int64\n",
       "Number_of_Vehicles           int64\n",
       "Road_Surface_Conditions     object\n",
       "Road_Type                   object\n",
       "Urban_or_Rural_Area         object\n",
       "Weather_Conditions          object\n",
       "Vehicle_Type                object\n",
       "dtype: object"
      ]
     },
     "execution_count": 4,
     "metadata": {},
     "output_type": "execute_result"
    }
   ],
   "source": [
    "accident.dtypes"
   ]
  },
  {
   "cell_type": "code",
   "execution_count": 5,
   "id": "9ac3bcf7-ddae-4e66-9ba0-5e3a7716b838",
   "metadata": {},
   "outputs": [
    {
     "data": {
      "text/html": [
       "<div>\n",
       "<style scoped>\n",
       "    .dataframe tbody tr th:only-of-type {\n",
       "        vertical-align: middle;\n",
       "    }\n",
       "\n",
       "    .dataframe tbody tr th {\n",
       "        vertical-align: top;\n",
       "    }\n",
       "\n",
       "    .dataframe thead th {\n",
       "        text-align: right;\n",
       "    }\n",
       "</style>\n",
       "<table border=\"1\" class=\"dataframe\">\n",
       "  <thead>\n",
       "    <tr style=\"text-align: right;\">\n",
       "      <th></th>\n",
       "      <th>Latitude</th>\n",
       "      <th>Longitude</th>\n",
       "      <th>Number_of_Casualties</th>\n",
       "      <th>Number_of_Vehicles</th>\n",
       "    </tr>\n",
       "  </thead>\n",
       "  <tbody>\n",
       "    <tr>\n",
       "      <th>count</th>\n",
       "      <td>660654.000000</td>\n",
       "      <td>660653.000000</td>\n",
       "      <td>660679.000000</td>\n",
       "      <td>660679.000000</td>\n",
       "    </tr>\n",
       "    <tr>\n",
       "      <th>mean</th>\n",
       "      <td>52.553866</td>\n",
       "      <td>-1.431210</td>\n",
       "      <td>1.357040</td>\n",
       "      <td>1.831255</td>\n",
       "    </tr>\n",
       "    <tr>\n",
       "      <th>std</th>\n",
       "      <td>1.406922</td>\n",
       "      <td>1.383330</td>\n",
       "      <td>0.824847</td>\n",
       "      <td>0.715269</td>\n",
       "    </tr>\n",
       "    <tr>\n",
       "      <th>min</th>\n",
       "      <td>49.914430</td>\n",
       "      <td>-7.516225</td>\n",
       "      <td>1.000000</td>\n",
       "      <td>1.000000</td>\n",
       "    </tr>\n",
       "    <tr>\n",
       "      <th>25%</th>\n",
       "      <td>51.490690</td>\n",
       "      <td>-2.332291</td>\n",
       "      <td>1.000000</td>\n",
       "      <td>1.000000</td>\n",
       "    </tr>\n",
       "    <tr>\n",
       "      <th>50%</th>\n",
       "      <td>52.315641</td>\n",
       "      <td>-1.411667</td>\n",
       "      <td>1.000000</td>\n",
       "      <td>2.000000</td>\n",
       "    </tr>\n",
       "    <tr>\n",
       "      <th>75%</th>\n",
       "      <td>53.453452</td>\n",
       "      <td>-0.232869</td>\n",
       "      <td>1.000000</td>\n",
       "      <td>2.000000</td>\n",
       "    </tr>\n",
       "    <tr>\n",
       "      <th>max</th>\n",
       "      <td>60.757544</td>\n",
       "      <td>1.762010</td>\n",
       "      <td>68.000000</td>\n",
       "      <td>32.000000</td>\n",
       "    </tr>\n",
       "  </tbody>\n",
       "</table>\n",
       "</div>"
      ],
      "text/plain": [
       "            Latitude      Longitude  Number_of_Casualties  Number_of_Vehicles\n",
       "count  660654.000000  660653.000000         660679.000000       660679.000000\n",
       "mean       52.553866      -1.431210              1.357040            1.831255\n",
       "std         1.406922       1.383330              0.824847            0.715269\n",
       "min        49.914430      -7.516225              1.000000            1.000000\n",
       "25%        51.490690      -2.332291              1.000000            1.000000\n",
       "50%        52.315641      -1.411667              1.000000            2.000000\n",
       "75%        53.453452      -0.232869              1.000000            2.000000\n",
       "max        60.757544       1.762010             68.000000           32.000000"
      ]
     },
     "execution_count": 5,
     "metadata": {},
     "output_type": "execute_result"
    }
   ],
   "source": [
    "accident.describe()"
   ]
  },
  {
   "cell_type": "code",
   "execution_count": 6,
   "id": "944ef5fc-54cb-400b-9215-eaaa31023f5c",
   "metadata": {},
   "outputs": [
    {
     "data": {
      "text/plain": [
       "Accident_Severity\n",
       "Slight     563801\n",
       "Serious     88217\n",
       "Fatal        8661\n",
       "Name: count, dtype: int64"
      ]
     },
     "execution_count": 6,
     "metadata": {},
     "output_type": "execute_result"
    }
   ],
   "source": [
    "accident['Accident_Severity'] = accident['Accident_Severity'].astype('category')\n",
    "accident['Accident_Severity'].value_counts()"
   ]
  },
  {
   "cell_type": "markdown",
   "id": "b7eb80cd-f8aa-45eb-8ec3-7672bf1ffe3c",
   "metadata": {},
   "source": [
    "<h1>CONVERTING OBJECT TO DATETIME DATA TYPE</h1>"
   ]
  },
  {
   "cell_type": "code",
   "execution_count": 7,
   "id": "96572459-b592-494f-b0d5-af87e2d1d840",
   "metadata": {},
   "outputs": [
    {
     "data": {
      "text/plain": [
       "Index                              object\n",
       "Accident_Severity                category\n",
       "Accident Date              datetime64[ns]\n",
       "Latitude                          float64\n",
       "Light_Conditions                   object\n",
       "District Area                      object\n",
       "Longitude                         float64\n",
       "Number_of_Casualties                int64\n",
       "Number_of_Vehicles                  int64\n",
       "Road_Surface_Conditions            object\n",
       "Road_Type                          object\n",
       "Urban_or_Rural_Area                object\n",
       "Weather_Conditions                 object\n",
       "Vehicle_Type                       object\n",
       "dtype: object"
      ]
     },
     "execution_count": 7,
     "metadata": {},
     "output_type": "execute_result"
    }
   ],
   "source": [
    "accident['Accident Date'] = pd.to_datetime(accident['Accident Date'], dayfirst = True, errors = 'coerce')\n",
    "accident.dtypes"
   ]
  },
  {
   "cell_type": "code",
   "execution_count": 8,
   "id": "56f7461e-466e-49a0-b991-9c0844d34c94",
   "metadata": {},
   "outputs": [
    {
     "data": {
      "text/plain": [
       "Index                          0\n",
       "Accident_Severity              0\n",
       "Accident Date                  0\n",
       "Latitude                      25\n",
       "Light_Conditions               0\n",
       "District Area                  0\n",
       "Longitude                     26\n",
       "Number_of_Casualties           0\n",
       "Number_of_Vehicles             0\n",
       "Road_Surface_Conditions      726\n",
       "Road_Type                   4520\n",
       "Urban_or_Rural_Area           15\n",
       "Weather_Conditions         14128\n",
       "Vehicle_Type                   0\n",
       "dtype: int64"
      ]
     },
     "execution_count": 8,
     "metadata": {},
     "output_type": "execute_result"
    }
   ],
   "source": [
    "accident.isnull().sum()"
   ]
  },
  {
   "cell_type": "markdown",
   "id": "d63d2296-4c24-4544-a53b-311bcd0a505e",
   "metadata": {},
   "source": [
    "<h1>CATEGORICAL DATA FIELDS</h1>"
   ]
  },
  {
   "cell_type": "code",
   "execution_count": 9,
   "id": "fad15f40-919d-4ecd-89d3-f4503969a504",
   "metadata": {},
   "outputs": [
    {
     "data": {
      "text/plain": [
       "Index                      0\n",
       "Accident_Severity          0\n",
       "Accident Date              0\n",
       "Latitude                   0\n",
       "Light_Conditions           0\n",
       "District Area              0\n",
       "Longitude                  0\n",
       "Number_of_Casualties       0\n",
       "Number_of_Vehicles         0\n",
       "Road_Surface_Conditions    0\n",
       "Road_Type                  0\n",
       "Urban_or_Rural_Area        0\n",
       "Weather_Conditions         0\n",
       "Vehicle_Type               0\n",
       "dtype: int64"
      ]
     },
     "execution_count": 9,
     "metadata": {},
     "output_type": "execute_result"
    }
   ],
   "source": [
    "accident['Latitude'] = accident['Latitude'].fillna(accident['Latitude'].mode()[0])\n",
    "accident['Longitude'] = accident['Longitude'].fillna(accident['Longitude'].mode()[0])\n",
    "accident['Road_Surface_Conditions'] = accident['Road_Surface_Conditions'].fillna('unknown surface condition')\n",
    "accident['Road_Type'] = accident['Road_Type'].fillna('unaccounted')\n",
    "accident['Weather_Conditions'] = accident['Weather_Conditions'].fillna('unaccounted weather conditions')\n",
    "accident['Urban_or_Rural_Area'] = accident['Urban_or_Rural_Area'].fillna(accident['Urban_or_Rural_Area'].mode()[0])\n",
    "accident.isnull().sum()"
   ]
  },
  {
   "cell_type": "markdown",
   "id": "89583b1a-f211-4fad-8f85-6a868e496558",
   "metadata": {},
   "source": [
    "<h1>CATEGORICAL FIELDS</h1>"
   ]
  },
  {
   "cell_type": "code",
   "execution_count": 10,
   "id": "6e7748df-ab4f-440b-bb90-f8336983683e",
   "metadata": {},
   "outputs": [
    {
     "data": {
      "text/plain": [
       "Index                      category\n",
       "Accident_Severity          category\n",
       "Accident Date              category\n",
       "Latitude                   category\n",
       "Light_Conditions           category\n",
       "District Area              category\n",
       "Longitude                  category\n",
       "Number_of_Casualties       category\n",
       "Number_of_Vehicles         category\n",
       "Road_Surface_Conditions    category\n",
       "Road_Type                  category\n",
       "Urban_or_Rural_Area        category\n",
       "Weather_Conditions         category\n",
       "Vehicle_Type               category\n",
       "dtype: object"
      ]
     },
     "execution_count": 10,
     "metadata": {},
     "output_type": "execute_result"
    }
   ],
   "source": [
    "accident['Index'] = accident['Index'].astype('category')\n",
    "accident['Accident_Severity'] = accident['Accident_Severity'].astype('category')\n",
    "accident['Accident Date'] = accident['Accident Date'].astype('category')\n",
    "accident['Latitude'] = accident['Latitude'].astype('category')\n",
    "accident['Light_Conditions'] = accident['Light_Conditions'].astype('category')\n",
    "accident['District Area'] = accident['District Area'].astype('category')\n",
    "accident['Longitude'] = accident['Longitude'].astype('category')\n",
    "accident['Number_of_Casualties'] = accident['Number_of_Casualties'].astype('category')\n",
    "accident['Number_of_Vehicles'] = accident['Number_of_Vehicles'].astype('category')\n",
    "accident['Road_Surface_Conditions'] = accident['Road_Surface_Conditions'].astype('category')\n",
    "accident['Road_Type'] = accident['Road_Type'].astype('category')\n",
    "accident['Urban_or_Rural_Area'] = accident['Urban_or_Rural_Area'].astype('category')\n",
    "accident['Weather_Conditions'] = accident['Weather_Conditions'].astype('category')\n",
    "accident['Vehicle_Type'] = accident['Vehicle_Type'].astype('category')\n",
    "accident.dtypes"
   ]
  },
  {
   "cell_type": "markdown",
   "id": "7e5e43b5-cf75-4d97-8ca3-3f63f9ba77ce",
   "metadata": {},
   "source": [
    "<h1>DATA ANALYTICS</h1>\n",
    "<h2>ANALYZING EACH FIELD FROM THE DATA SET</h2>"
   ]
  },
  {
   "cell_type": "markdown",
   "id": "7da07ec7-6eea-4037-abe6-a276b9a8d927",
   "metadata": {},
   "source": [
    "<h1>UNIVARIATE ANALYSIS FROM YEAR 2019</h1>\n",
    "<h2>QUESTION: HOW MANY INCIDENTS HAPPENED UNDER LIGHT CONDITIONS</h2>"
   ]
  },
  {
   "cell_type": "code",
   "execution_count": 11,
   "id": "3d99f113-afa7-4bef-9378-cb6db628a20a",
   "metadata": {},
   "outputs": [
    {
     "data": {
      "text/plain": [
       "Light_Conditions\n",
       "Daylight                       484880\n",
       "Darkness - lights lit          129335\n",
       "Darkness - no lighting          37437\n",
       "Darkness - lighting unknown      6484\n",
       "Darkness - lights unlit          2543\n",
       "Name: count, dtype: int64"
      ]
     },
     "execution_count": 11,
     "metadata": {},
     "output_type": "execute_result"
    }
   ],
   "source": [
    "accident['Light_Conditions'].value_counts()"
   ]
  },
  {
   "cell_type": "code",
   "execution_count": null,
   "id": "e7cbe09e-464e-45d9-8a43-802b1a251302",
   "metadata": {},
   "outputs": [],
   "source": []
  },
  {
   "cell_type": "markdown",
   "id": "ffdd7576-e1aa-4d61-b87b-a7c1d82f753c",
   "metadata": {},
   "source": [
    "<h1>INSIGHT 1</h1>\n",
    "<h2>QUESTION: HOW DO ACCIDENTS VARY UNDER DIFFERENT LIGHT CONDITIONS?</h2>\n",
    "<h3>ANSWER: THE MAJORITY OF ACCIDENTS OCCUR IN DAYLIGHT</h3>"
   ]
  },
  {
   "cell_type": "code",
   "execution_count": 12,
   "id": "04d6c90e-7201-45a0-b205-e5b5b60b978a",
   "metadata": {},
   "outputs": [
    {
     "data": {
      "text/plain": [
       "Light_Conditions\n",
       "Daylight                       484880\n",
       "Darkness - lights lit          129335\n",
       "Darkness - no lighting          37437\n",
       "Darkness - lighting unknown      6484\n",
       "Darkness - lights unlit          2543\n",
       "Name: count, dtype: int64"
      ]
     },
     "execution_count": 12,
     "metadata": {},
     "output_type": "execute_result"
    }
   ],
   "source": [
    "accident['Light_Conditions'].value_counts()"
   ]
  },
  {
   "cell_type": "code",
   "execution_count": null,
   "id": "81de077e-0add-4bb5-9242-f6e98f26f515",
   "metadata": {},
   "outputs": [],
   "source": []
  },
  {
   "cell_type": "markdown",
   "id": "cf4c3556-26f3-4d5e-9dc0-bc0a2afc2c62",
   "metadata": {},
   "source": [
    "<h1>INSIGHT 2</h1>\n",
    "<h2>QUESTION: CORRELATION BETWEEN NUMBER OF CASUALTIES AND NUMBER OF VEHICLES?</h2>\n",
    "<h3>ANSWER: THERE IS A CORRELATION BETWEEN NUMBER OF CASUALTIES AND NUMBER OF VEHICLES</h3>"
   ]
  },
  {
   "cell_type": "code",
   "execution_count": 13,
   "id": "8c094ce2-92f4-4099-ba98-ff2c6ae7d3da",
   "metadata": {},
   "outputs": [
    {
     "data": {
      "text/plain": [
       "np.float64(0.2288888612692756)"
      ]
     },
     "execution_count": 13,
     "metadata": {},
     "output_type": "execute_result"
    }
   ],
   "source": [
    "number_casualties_vehicles = accident['Number_of_Casualties'].corr(accident['Number_of_Vehicles'])\n",
    "number_casualties_vehicles"
   ]
  },
  {
   "cell_type": "code",
   "execution_count": null,
   "id": "d26a01d8-2501-4806-82c7-065e86605254",
   "metadata": {},
   "outputs": [],
   "source": []
  },
  {
   "cell_type": "markdown",
   "id": "1c4460ba-03a5-4311-9a1a-8ba7a78411c9",
   "metadata": {},
   "source": [
    "<h1>INSIGHT 3</h1>\n",
    "<h2>QUESTION: WHICH DISTRICT AREAS HAVE THE HIGHEST NUMBER OF ACCIDENTS?</h2>\n",
    "<h3>ANSWER: THE HIGHEST NUMBER OF ACCIDENTS IN THE DISTRICT AREA IS BIRMINGHAM</h3>"
   ]
  },
  {
   "cell_type": "code",
   "execution_count": 14,
   "id": "5c241ef3-b8ba-45cf-8d13-33bd1f3c4499",
   "metadata": {},
   "outputs": [
    {
     "data": {
      "text/plain": [
       "District Area\n",
       "Birmingham          13491\n",
       "Leeds                8898\n",
       "Manchester           6720\n",
       "Bradford             6212\n",
       "Sheffield            5710\n",
       "Westminster          5706\n",
       "Liverpool            5587\n",
       "Glasgow City         4942\n",
       "Bristol, City of     4819\n",
       "Kirklees             4690\n",
       "Name: count, dtype: int64"
      ]
     },
     "execution_count": 14,
     "metadata": {},
     "output_type": "execute_result"
    }
   ],
   "source": [
    "accident['District Area'].value_counts().head(10)"
   ]
  },
  {
   "cell_type": "code",
   "execution_count": null,
   "id": "13be2b72-c362-4a5f-8474-95a884062106",
   "metadata": {},
   "outputs": [],
   "source": []
  },
  {
   "cell_type": "markdown",
   "id": "7c3c6709-7058-44be-94a9-9f8b4ad48129",
   "metadata": {},
   "source": [
    "<h1>INSIGHT 4</h1>\n",
    "<h2>QUESTION: HOW MANY ACCIDENTS OCCURED ON 2019-01-31?</h2>\n",
    "<h3>ANSWER: THE ACCIDENTS ACCURED ON 2019-01-31 is 697 </h3>"
   ]
  },
  {
   "cell_type": "code",
   "execution_count": 15,
   "id": "f4c2e24a-e8db-4c3c-83e8-5c649d2187b6",
   "metadata": {},
   "outputs": [
    {
     "data": {
      "text/plain": [
       "Accident Date\n",
       "2019-11-30    704\n",
       "2019-01-31    697\n",
       "2021-11-13    692\n",
       "2019-07-13    692\n",
       "2019-08-14    688\n",
       "             ... \n",
       "2022-12-30    171\n",
       "2019-12-25    157\n",
       "2022-12-25    145\n",
       "2022-01-10    123\n",
       "2020-12-25    118\n",
       "Name: count, Length: 1461, dtype: int64"
      ]
     },
     "execution_count": 15,
     "metadata": {},
     "output_type": "execute_result"
    }
   ],
   "source": [
    "accident['Accident Date'].value_counts()"
   ]
  },
  {
   "cell_type": "code",
   "execution_count": null,
   "id": "e0c213f7-be95-4bc2-b87b-6715b54c5b9c",
   "metadata": {},
   "outputs": [],
   "source": []
  },
  {
   "cell_type": "markdown",
   "id": "120daece-7895-4dfe-b04a-e05a83673cd6",
   "metadata": {},
   "source": [
    "<h1>INSIGHT 5</h1>\n",
    "<h2>QUESTION: WHAT IS THE DISTRIBUTION OF ACCIDENT SEVERITY LEVEL?</h2>\n",
    "<h3>ANSWER: MOST ACCIDENTS ARE SLIGHT, INDICATING MINOR INJURIES OR DAMAGES</h3>"
   ]
  },
  {
   "cell_type": "code",
   "execution_count": 16,
   "id": "f0c09280-afc2-493b-bb81-fde57c16e6c9",
   "metadata": {},
   "outputs": [
    {
     "data": {
      "text/plain": [
       "Accident_Severity\n",
       "Slight     563801\n",
       "Serious     88217\n",
       "Fatal        8661\n",
       "Name: count, dtype: int64"
      ]
     },
     "execution_count": 16,
     "metadata": {},
     "output_type": "execute_result"
    }
   ],
   "source": [
    "accident['Accident_Severity'].value_counts()"
   ]
  },
  {
   "cell_type": "code",
   "execution_count": null,
   "id": "667ad579-9350-4d2c-9585-4467a43d0745",
   "metadata": {},
   "outputs": [],
   "source": []
  },
  {
   "cell_type": "markdown",
   "id": "4c5d0d8c-4782-4cf2-b559-3aa96be63519",
   "metadata": {},
   "source": [
    "<h1>INSIGHT 6</h1>\n",
    "<h2>QUESTION: WHICH ROAD SURFACE CONDITIONS ARE ASSOCIATED WITH THE MOST ACCIDENTS?</h2>\n",
    "<h3>ANSWER: THE MOST ACCIDENTS IN THE ROAD CONDITIONS IS IN DRY WITH 447,821</h3>"
   ]
  },
  {
   "cell_type": "code",
   "execution_count": 17,
   "id": "5fdb0e93-0917-430f-9801-8b4b3ef702f7",
   "metadata": {},
   "outputs": [
    {
     "data": {
      "text/plain": [
       "Road_Surface_Conditions\n",
       "Dry                          447821\n",
       "Wet or damp                  186708\n",
       "Frost or ice                  18517\n",
       "Snow                           5890\n",
       "Flood over 3cm. deep           1017\n",
       "unknown surface condition       726\n",
       "Name: count, dtype: int64"
      ]
     },
     "execution_count": 17,
     "metadata": {},
     "output_type": "execute_result"
    }
   ],
   "source": [
    "accident['Road_Surface_Conditions'].value_counts()"
   ]
  },
  {
   "cell_type": "code",
   "execution_count": null,
   "id": "9a48ce05-46f7-4d66-a396-aa885a4a37b0",
   "metadata": {},
   "outputs": [],
   "source": []
  },
  {
   "cell_type": "markdown",
   "id": "0ccfd1f8-ea63-4e1c-8f3a-e23e7dbb89f1",
   "metadata": {},
   "source": [
    "<h1>INSIGHT 7</h1>\n",
    "<h2>QUESTION: WHICH VEHICLE TYPES ARE MOST COMMONLY INVOLVED IN ACCIDENTS?</h2>\n",
    "<h3>ANSWER: ARE THE MOST COMMONLY INVOLVED IN ACCIDENTS IN THE VEHICLE TYPES IS CAR WITH 497,992 ACCIDENTS</h3>"
   ]
  },
  {
   "cell_type": "code",
   "execution_count": 18,
   "id": "29465e7a-5705-4f53-bf65-79a9d5fa2f48",
   "metadata": {},
   "outputs": [
    {
     "data": {
      "text/plain": [
       "Vehicle_Type\n",
       "Car                                      497992\n",
       "Van / Goods 3.5 tonnes mgw or under       34160\n",
       "Bus or coach (17 or more pass seats)      25878\n",
       "Motorcycle over 500cc                     25657\n",
       "Goods 7.5 tonnes mgw and over             17307\n",
       "Motorcycle 125cc and under                15269\n",
       "Taxi/Private hire car                     13294\n",
       "Motorcycle over 125cc and up to 500cc      7656\n",
       "Motorcycle 50cc and under                  7603\n",
       "Goods over 3.5t. and under 7.5t            6096\n",
       "Other vehicle                              5637\n",
       "Minibus (8 - 16 passenger seats)           1976\n",
       "Agricultural vehicle                       1947\n",
       "Pedal cycle                                 197\n",
       "Data missing or out of range                  6\n",
       "Ridden horse                                  4\n",
       "Name: count, dtype: int64"
      ]
     },
     "execution_count": 18,
     "metadata": {},
     "output_type": "execute_result"
    }
   ],
   "source": [
    "accident['Vehicle_Type'].value_counts()"
   ]
  },
  {
   "cell_type": "code",
   "execution_count": null,
   "id": "4f52d7b3-0525-4716-93a5-7344bcf2b0d1",
   "metadata": {},
   "outputs": [],
   "source": []
  },
  {
   "cell_type": "markdown",
   "id": "e7790d5d-1f32-4b8d-892f-97adc97b3081",
   "metadata": {},
   "source": [
    "<h1>INSIGHT 8</h1>\n",
    "<h2>QUESTION: WHAT IS THE COMMON ACCIDENT SEVERITY IN URBAN AND RURAL AREAS?</h2>\n",
    "<h3>ANSWER: THE MOST COMMON ACCIDENT SEVERITY IN URBAN IS SLIGHT WITH 367,714, IN RURAL IS SLIGHT WITH 196,077</h3>"
   ]
  },
  {
   "cell_type": "code",
   "execution_count": 19,
   "id": "01564eb2-735d-4234-b464-0f073ea73d4c",
   "metadata": {},
   "outputs": [
    {
     "data": {
      "text/plain": [
       "Urban_or_Rural_Area  Accident_Severity\n",
       "Rural                Slight               196077\n",
       "                     Serious               37312\n",
       "                     Fatal                  5601\n",
       "Unallocated          Slight                   10\n",
       "                     Serious                   1\n",
       "                     Fatal                     0\n",
       "Urban                Slight               367714\n",
       "                     Serious               50904\n",
       "                     Fatal                  3060\n",
       "Name: count, dtype: int64"
      ]
     },
     "execution_count": 19,
     "metadata": {},
     "output_type": "execute_result"
    }
   ],
   "source": [
    "accident.groupby('Urban_or_Rural_Area')['Accident_Severity'].value_counts()"
   ]
  },
  {
   "cell_type": "code",
   "execution_count": null,
   "id": "049b19b5-2ada-45ec-938f-97c48099f84a",
   "metadata": {},
   "outputs": [],
   "source": []
  },
  {
   "cell_type": "markdown",
   "id": "d8602b23-8f1a-4e60-bd66-3d53b30c97fc",
   "metadata": {},
   "source": [
    "<h1>INSIGHT 9</h1>\n",
    "<h2>QUESTION: WHICH MONTH RECORDS THE HIGHEST NUMBER OF ACCIDENTS?</h2>\n",
    "<h3>ANSWER: ARE THE MOST NUMBER OF ACCIDENTS IN TERMS OF MONTH IS NOVEMBER WITH 60,424</h3>"
   ]
  },
  {
   "cell_type": "code",
   "execution_count": 20,
   "id": "0527e00d-037a-410c-9d3b-22da8763464f",
   "metadata": {},
   "outputs": [
    {
     "data": {
      "text/plain": [
       "Month\n",
       "1     52872\n",
       "2     49491\n",
       "3     54086\n",
       "4     51744\n",
       "5     56352\n",
       "6     56481\n",
       "7     57445\n",
       "8     53913\n",
       "9     56455\n",
       "10    59580\n",
       "11    60424\n",
       "12    51836\n",
       "Name: count, dtype: int64"
      ]
     },
     "execution_count": 20,
     "metadata": {},
     "output_type": "execute_result"
    }
   ],
   "source": [
    "accident['Accident Date'] = pd.to_datetime(accident['Accident Date'])\n",
    "accident['Month'] = accident['Accident Date'].dt.month\n",
    "accident['Month'].value_counts().sort_index()"
   ]
  },
  {
   "cell_type": "code",
   "execution_count": null,
   "id": "7b0bc83c-5d24-4f22-923a-1b22498c3df2",
   "metadata": {},
   "outputs": [],
   "source": []
  },
  {
   "cell_type": "markdown",
   "id": "15ed0497-6d58-4767-949e-0fa87d8329d8",
   "metadata": {},
   "source": [
    "<h1>INSIGHT 10</h1>\n",
    "<h2>QUESTION: WHAT IS THE PERCENTAGE NUMBER OF ACCIDENTS OCCURED IN CAR?</h2>\n",
    "<h3>ANSWER: THE AVERAGE ACCIDENTS OCCURED IN CAR IS 75.4%</h3>"
   ]
  },
  {
   "cell_type": "code",
   "execution_count": 21,
   "id": "98a78916-437a-4aef-9514-93ed90c64359",
   "metadata": {},
   "outputs": [
    {
     "data": {
      "text/plain": [
       "Vehicle_Type\n",
       "Car                                      75.4\n",
       "Van / Goods 3.5 tonnes mgw or under       5.2\n",
       "Bus or coach (17 or more pass seats)      3.9\n",
       "Motorcycle over 500cc                     3.9\n",
       "Goods 7.5 tonnes mgw and over             2.6\n",
       "Motorcycle 125cc and under                2.3\n",
       "Taxi/Private hire car                     2.0\n",
       "Motorcycle over 125cc and up to 500cc     1.2\n",
       "Motorcycle 50cc and under                 1.2\n",
       "Goods over 3.5t. and under 7.5t           0.9\n",
       "Other vehicle                             0.9\n",
       "Minibus (8 - 16 passenger seats)          0.3\n",
       "Agricultural vehicle                      0.3\n",
       "Pedal cycle                               0.0\n",
       "Data missing or out of range              0.0\n",
       "Ridden horse                              0.0\n",
       "Name: proportion, dtype: float64"
      ]
     },
     "execution_count": 21,
     "metadata": {},
     "output_type": "execute_result"
    }
   ],
   "source": [
    "np.round(accident['Vehicle_Type'].value_counts(normalize=True) * 100 , 1)"
   ]
  },
  {
   "cell_type": "markdown",
   "id": "7dc30c5c-a3f0-4e5d-9fc9-4fa8026c2a84",
   "metadata": {},
   "source": [
    "<h1>INSIGHT 11</h1>\n",
    "<h2>QUESTION: CORRELATION BETWEEN LATITUDE AND LONGITUDE?</h2>\n",
    "<h3>ANSWER: THERE IS NO CORRELATION BETWEEN LATITUDE AND LONGITUDE</h3>"
   ]
  },
  {
   "cell_type": "code",
   "execution_count": 22,
   "id": "ba3edef5-d421-4af0-99d0-efd91d18f9f4",
   "metadata": {},
   "outputs": [
    {
     "data": {
      "text/plain": [
       "np.float64(-0.3981137948101014)"
      ]
     },
     "execution_count": 22,
     "metadata": {},
     "output_type": "execute_result"
    }
   ],
   "source": [
    "latitude_longitude = accident['Latitude'].corr(accident['Longitude'])\n",
    "latitude_longitude"
   ]
  },
  {
   "cell_type": "markdown",
   "id": "2cb4b29a-9a33-4773-90e4-aef1ab9ebb39",
   "metadata": {},
   "source": [
    "<h1>INSIGHT 12</h1>\n",
    "<h2>QUESTION: WHICH ROAD ARE THE HIGHEST ACCIDENT RATES?</h2>\n",
    "<h3>ANSWER: THE HIGHEST ROAD ACCIDENTS RATES ARE IN SINGLE CARRIAGEWAY </h3>"
   ]
  },
  {
   "cell_type": "code",
   "execution_count": 23,
   "id": "d4643b00-9556-4a91-b06f-191416a16aaa",
   "metadata": {},
   "outputs": [
    {
     "data": {
      "text/plain": [
       "Road_Type\n",
       "Single carriageway    492143\n",
       "Dual carriageway       99424\n",
       "Roundabout             43992\n",
       "One way street         13559\n",
       "Slip road               7041\n",
       "unaccounted             4520\n",
       "Name: count, dtype: int64"
      ]
     },
     "execution_count": 23,
     "metadata": {},
     "output_type": "execute_result"
    }
   ],
   "source": [
    "accident['Road_Type'].value_counts()"
   ]
  },
  {
   "cell_type": "markdown",
   "id": "2548adf3-90e6-4568-8632-1f7cbf7f2b69",
   "metadata": {},
   "source": [
    "<h1>INSIGHT 13</h1>\n",
    "<h2>QUESTION: WHICH DISTRICT ARE THE HIGHEST NUMBER OF CASUALTIES?</h2>\n",
    "<h3>ANSWER: THE DISTRICT ARE THE HIGHEST NUMBER OF CASUALTIES IS BIRMINGHAM WITH 13,491 CASUALTIES </h3>"
   ]
  },
  {
   "cell_type": "code",
   "execution_count": 24,
   "id": "8a8610df-0006-4c86-8fa4-e8336bf65979",
   "metadata": {},
   "outputs": [
    {
     "data": {
      "text/plain": [
       "District Area\n",
       "Birmingham          13491\n",
       "Leeds                8898\n",
       "Manchester           6720\n",
       "Bradford             6212\n",
       "Sheffield            5710\n",
       "Westminster          5706\n",
       "Liverpool            5587\n",
       "Glasgow City         4942\n",
       "Bristol, City of     4819\n",
       "Kirklees             4690\n",
       "Name: Number_of_Casualties, dtype: int64"
      ]
     },
     "execution_count": 24,
     "metadata": {},
     "output_type": "execute_result"
    }
   ],
   "source": [
    "accident.groupby('District Area')['Number_of_Casualties'].size().sort_values(ascending=False).head(10)"
   ]
  },
  {
   "cell_type": "markdown",
   "id": "1520d3cd-124a-4ca6-a5fb-3ddf64ea0e85",
   "metadata": {},
   "source": [
    "<h1>INSIGHT 14</h1>\n",
    "<h2>QUESTION: HOW MANY INCIDENTS HAPPENED UNDER LIGHT CONDITIONS IN 2022?</h2>\n",
    "<h3>ANSWER: TOTAL NUMBER OF ACCIDENT IN YEAR 2022 UNDER THE LIGHT CONDITIONS IS 0</h3>"
   ]
  },
  {
   "cell_type": "code",
   "execution_count": 25,
   "id": "4154c263-ef0a-4050-838d-1255a0b52a92",
   "metadata": {},
   "outputs": [
    {
     "name": "stdout",
     "output_type": "stream",
     "text": [
      "total number of accident in 2022 is 0\n"
     ]
    },
    {
     "data": {
      "text/plain": [
       "Light_Conditions\n",
       "Darkness - lighting unknown    0\n",
       "Darkness - lights lit          0\n",
       "Darkness - lights unlit        0\n",
       "Darkness - no lighting         0\n",
       "Daylight                       0\n",
       "Name: count, dtype: int64"
      ]
     },
     "execution_count": 25,
     "metadata": {},
     "output_type": "execute_result"
    }
   ],
   "source": [
    "accident_2022 = accident[accident['Accident Date'] == 2022]\n",
    "print(f\"total number of accident in 2022 is {accident_2022['Light_Conditions'].value_counts().sum()}\")\n",
    "accident_2022['Light_Conditions'].value_counts()"
   ]
  },
  {
   "cell_type": "markdown",
   "id": "c59568b2-0159-44e6-b9d7-3bd58a9f35ca",
   "metadata": {},
   "source": [
    "<h1>INSIGHT 15</h1>\n",
    "<h2>QUESTION: HOW MANY ACCIDENTS OCCUR IN \"FINE NO HIGH WINDS\"?</h2>\n",
    "<h3>ANSWER: THE OCCURS ACCIDENTS IN \"FINE NO HIGH WINDS IS 520885</h3>"
   ]
  },
  {
   "cell_type": "code",
   "execution_count": 26,
   "id": "767b95de-0078-40e7-a674-cb3b3b533a06",
   "metadata": {},
   "outputs": [
    {
     "data": {
      "text/plain": [
       "520885"
      ]
     },
     "execution_count": 26,
     "metadata": {},
     "output_type": "execute_result"
    }
   ],
   "source": [
    "accident[accident['Weather_Conditions'].str.contains('Fine no high winds', na=False)].shape[0]"
   ]
  },
  {
   "cell_type": "markdown",
   "id": "1e47e543-7f72-4dd1-9b67-0753805326a8",
   "metadata": {},
   "source": [
    "<h1>INSIGHT 16</h1>\n",
    "<h2>QUESTION: WHAT YEAR RECORDED THE HIGHEST NUMBER OF ACCIDENTS?</h2>\n",
    "<h3>ANSWER: THE HIGHEST NUMBER OF ACCIDENTS IN YEAR OF 2019</h3>"
   ]
  },
  {
   "cell_type": "code",
   "execution_count": 27,
   "id": "95102154-e07c-4723-8d49-c08b71050671",
   "metadata": {},
   "outputs": [
    {
     "data": {
      "text/plain": [
       "Accident Date\n",
       "2019    182115\n",
       "2020    170591\n",
       "2021    163554\n",
       "2022    144419\n",
       "Name: count, dtype: int64"
      ]
     },
     "execution_count": 27,
     "metadata": {},
     "output_type": "execute_result"
    }
   ],
   "source": [
    "accident['Accident Date'].dt.year.value_counts()"
   ]
  },
  {
   "cell_type": "markdown",
   "id": "c1862b4e-5c93-4ab7-bb3c-c4da1e9170d4",
   "metadata": {},
   "source": [
    "<h1>INSIGHT 17</h1>\n",
    "<h2>QUESTION: WHAT DAY RECORDED THE HIGHEST NUMBER OF ACCIDENTS?</h2>\n",
    "<h3>ANSWER: THE HIGHEST NUMBER OF ACCIDENTS IN DAY IS SATURDAY</h3>"
   ]
  },
  {
   "cell_type": "code",
   "execution_count": 28,
   "id": "bab44ed2-ebf7-4ae6-9f0f-40bda904f09f",
   "metadata": {},
   "outputs": [
    {
     "data": {
      "text/plain": [
       "Accident Date\n",
       "Saturday     107178\n",
       "Wednesday     99558\n",
       "Thursday      99511\n",
       "Friday        97900\n",
       "Tuesday       94550\n",
       "Sunday        89302\n",
       "Monday        72680\n",
       "Name: count, dtype: int64"
      ]
     },
     "execution_count": 28,
     "metadata": {},
     "output_type": "execute_result"
    }
   ],
   "source": [
    "accident['Accident Date'] = pd.to_datetime(accident['Accident Date'])\n",
    "accident['Accident Date'].dt.day_name().value_counts()"
   ]
  },
  {
   "cell_type": "markdown",
   "id": "41b74fc8-fed1-451e-b7c8-4a93b8d6065d",
   "metadata": {},
   "source": [
    "<h1>INSIGHT 18</h1>\n",
    "<h2>QUESTION: WHAT IS THE MOST COMMON CAUSE OF FATAL ACCIDENTS?</h2>\n",
    "<h3>ANSWER: THE COMMON CAUSE OF FATAL ACCIDENTS IS \"FINE NO HIGH WINDS</h3>"
   ]
  },
  {
   "cell_type": "code",
   "execution_count": 29,
   "id": "87c647f6-7330-49b9-ba13-0542d8deaa74",
   "metadata": {},
   "outputs": [
    {
     "data": {
      "text/plain": [
       "Weather_Conditions\n",
       "Fine no high winds                7100\n",
       "Raining no high winds              848\n",
       "Fine + high winds                  175\n",
       "Other                              165\n",
       "Raining + high winds               145\n",
       "unaccounted weather conditions     107\n",
       "Fog or mist                         82\n",
       "Snowing no high winds               36\n",
       "Snowing + high winds                 3\n",
       "Name: count, dtype: int64"
      ]
     },
     "execution_count": 29,
     "metadata": {},
     "output_type": "execute_result"
    }
   ],
   "source": [
    "accident[accident['Accident_Severity'] == 'Fatal']['Weather_Conditions'].value_counts()"
   ]
  },
  {
   "cell_type": "markdown",
   "id": "e2c8112a-9eda-4ca6-a988-46eec525a51d",
   "metadata": {},
   "source": [
    "<h1>INSIGHT 19</h1>\n",
    "<h2>QUESTION: WHAT IS THE PERCENTAGE OF FATAL ACCIDENTS IN VAN?</h2>\n",
    "<h3>ANSWER: THE PERCENTAGE OF FATAL ACCIDENTS IN VAN IS 75.9%</h3>"
   ]
  },
  {
   "cell_type": "code",
   "execution_count": 30,
   "id": "2b2e7f55-5ecc-4bb8-bf70-7c79b6bfd812",
   "metadata": {},
   "outputs": [
    {
     "data": {
      "text/plain": [
       "Vehicle_Type\n",
       "Car                                      75.9\n",
       "Van / Goods 3.5 tonnes mgw or under       5.4\n",
       "Motorcycle over 500cc                     3.9\n",
       "Bus or coach (17 or more pass seats)      3.8\n",
       "Goods 7.5 tonnes mgw and over             2.5\n",
       "Motorcycle 125cc and under                2.2\n",
       "Taxi/Private hire car                     1.8\n",
       "Motorcycle over 125cc and up to 500cc     1.2\n",
       "Motorcycle 50cc and under                 1.1\n",
       "Other vehicle                             0.8\n",
       "Goods over 3.5t. and under 7.5t           0.8\n",
       "Minibus (8 - 16 passenger seats)          0.3\n",
       "Agricultural vehicle                      0.2\n",
       "Pedal cycle                               0.1\n",
       "Data missing or out of range              0.0\n",
       "Ridden horse                              0.0\n",
       "Name: proportion, dtype: float64"
      ]
     },
     "execution_count": 30,
     "metadata": {},
     "output_type": "execute_result"
    }
   ],
   "source": [
    "np.round(accident[accident['Accident_Severity'] == 'Fatal']['Vehicle_Type'].value_counts(normalize=True) * 100 , 1)"
   ]
  },
  {
   "cell_type": "markdown",
   "id": "947c8f81-69df-424f-9fbc-bf072c59687b",
   "metadata": {},
   "source": [
    "<h1>INSIGHT 20</h1>\n",
    "<h2>QUESTION: WHAT IS THE PERCENTAGE OF ACCIDENTS OCCUR IN URBAN AREAS?</h2>\n",
    "<h3>ANSWER: THE PERCENTAGE OF ACCIDENTS IN URBAN AREAS IS 63.8%</h3>"
   ]
  },
  {
   "cell_type": "code",
   "execution_count": 31,
   "id": "bbc70eac-e01d-435f-bff4-c71881eacc41",
   "metadata": {},
   "outputs": [
    {
     "data": {
      "text/plain": [
       "Urban_or_Rural_Area\n",
       "Urban          63.8\n",
       "Rural          36.2\n",
       "Unallocated     0.0\n",
       "Name: proportion, dtype: float64"
      ]
     },
     "execution_count": 31,
     "metadata": {},
     "output_type": "execute_result"
    }
   ],
   "source": [
    "np.round(accident['Urban_or_Rural_Area'].value_counts(normalize=True) * 100, 1)"
   ]
  },
  {
   "cell_type": "code",
   "execution_count": null,
   "id": "cd066a79-5899-48aa-93bf-6246257c4d5a",
   "metadata": {},
   "outputs": [],
   "source": []
  }
 ],
 "metadata": {
  "kernelspec": {
   "display_name": "Python 3 (ipykernel)",
   "language": "python",
   "name": "python3"
  },
  "language_info": {
   "codemirror_mode": {
    "name": "ipython",
    "version": 3
   },
   "file_extension": ".py",
   "mimetype": "text/x-python",
   "name": "python",
   "nbconvert_exporter": "python",
   "pygments_lexer": "ipython3",
   "version": "3.13.2"
  }
 },
 "nbformat": 4,
 "nbformat_minor": 5
}
